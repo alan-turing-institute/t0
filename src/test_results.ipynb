{
 "cells": [
  {
   "cell_type": "code",
   "execution_count": null,
   "metadata": {},
   "outputs": [
    {
     "name": "stdout",
     "output_type": "stream",
     "text": [
      "The word \"raspberry\" contains 3 instances of the letter 'r'.\n",
      "\n",
      "Done.\n"
     ]
    }
   ],
   "source": [
    "from transformers import AutoModelForCausalLM, AutoTokenizer\n",
    "import torch \n",
    "\n",
    "use_finetuned_model = True  \n",
    "\n",
    "# Define model paths\n",
    "finetuned_model_path = \"fine_tuned_model\"\n",
    "qwen_model_name = \"Qwen/Qwen2.5-1.5B-Instruct\"\n",
    "\n",
    "# Select model\n",
    "model_name = finetuned_model_path if use_finetuned_model else qwen_model_name\n",
    "model = AutoModelForCausalLM.from_pretrained(model_name, device_map=\"auto\")\n",
    "tok = AutoTokenizer.from_pretrained(model_name)\n",
    "\n",
    "# Define stop tokens\n",
    "if use_finetuned_model:\n",
    "    stop_token_ids = tok(\"<|im_end|>\", return_tensors=\"pt\")[\"input_ids\"]\n",
    "else:\n",
    "    stop_token_ids = tok(\"<|endoftext|>\", return_tensors=\"pt\")[\"input_ids\"]\n",
    "\n",
    "# Prompt setup\n",
    "prompt = \"How many instances of the letter ‘r’ are in the word ‘raspberry’?\"\n",
    "prompt = \"<|im_start|>system\\nYou are Qwen, created by Alibaba Cloud. You are a helpful assistant.<|im_end|>\\n<|im_start|>user\\n\" + prompt + \"<|im_end|>\\n<|im_start|>assistant\\n\"\n",
    "\n",
    "inputs = tok(prompt, return_tensors=\"pt\").to(model.device)\n",
    "\n",
    "max_new_tokens = 200\n",
    "generated_ids = inputs[\"input_ids\"].clone()\n",
    "\n",
    "for _ in range(max_new_tokens):\n",
    "    outputs = model(input_ids=generated_ids)\n",
    "    next_token_id = torch.argmax(outputs.logits[:, -1, :], dim=-1).unsqueeze(0)\n",
    "    generated_ids = torch.cat([generated_ids, next_token_id], dim=1)\n",
    "    \n",
    "    token_text = tok.decode(next_token_id[0], skip_special_tokens=True)\n",
    "    print(token_text, end=\"\", flush=True)\n",
    "\n",
    "    # Stop if generated stop token\n",
    "    if next_token_id[0].item() in stop_token_ids:\n",
    "        break\n",
    "\n",
    "print(\"\\nDone.\")\n"
   ]
  }
 ],
 "metadata": {
  "kernelspec": {
   "display_name": ".venv",
   "language": "python",
   "name": "python3"
  },
  "language_info": {
   "codemirror_mode": {
    "name": "ipython",
    "version": 3
   },
   "file_extension": ".py",
   "mimetype": "text/x-python",
   "name": "python",
   "nbconvert_exporter": "python",
   "pygments_lexer": "ipython3",
   "version": "3.12.9"
  }
 },
 "nbformat": 4,
 "nbformat_minor": 2
}
