{
 "cells": [
  {
   "cell_type": "code",
   "execution_count": null,
   "metadata": {},
   "outputs": [],
   "source": [
    "from transformers import AutoModelForCausalLM, AutoTokenizer\n",
    "import torch \n",
    "\n",
    "output_dir = \"fine_tuned_model\"\n",
    "\n",
    "model = AutoModelForCausalLM.from_pretrained(output_dir)\n",
    "tok = AutoTokenizer.from_pretrained(output_dir)\n",
    "\n",
    "stop_token_ids = tok(\"<|im_end|>\")[\"input_ids\"]\n",
    "\n",
    "prompt = \"How many 'r' are in raspberry\"\n",
    "prompt = \"<|im_start|>system\\nYou are Qwen, created by Alibaba Cloud. You are a helpful assistant.<|im_end|>\\n<|im_start|>user\\n\" + prompt + \"<|im_end|>\\n<|im_start|>assistant\\n\"\n",
    "\n",
    "inputs = tok(prompt, return_tensors=\"pt\")\n",
    "\n",
    "max_new_tokens = 500\n",
    "generated_ids = inputs[\"input_ids\"].clone()\n",
    "\n",
    "for _ in range(max_new_tokens):\n",
    "    outputs = model(input_ids=generated_ids)\n",
    "    next_token_id = torch.argmax(outputs.logits[:, -1, :], dim=-1).unsqueeze(0)\n",
    "    generated_ids = torch.cat([generated_ids, next_token_id], dim=1)\n",
    "    token_text = tok.decode(next_token_id[0], skip_special_tokens=True)\n",
    "    print(token_text, end=\"\", flush=True)\n",
    "\n",
    "print(\"\\nDone.\")"
   ]
  }
 ],
 "metadata": {
  "kernelspec": {
   "display_name": ".venv",
   "language": "python",
   "name": "python3"
  },
  "language_info": {
   "codemirror_mode": {
    "name": "ipython",
    "version": 3
   },
   "file_extension": ".py",
   "mimetype": "text/x-python",
   "name": "python",
   "nbconvert_exporter": "python",
   "pygments_lexer": "ipython3",
   "version": "3.9.7"
  }
 },
 "nbformat": 4,
 "nbformat_minor": 2
}
